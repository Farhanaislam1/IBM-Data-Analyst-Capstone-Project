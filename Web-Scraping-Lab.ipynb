{
 "cells": [
  {
   "cell_type": "markdown",
   "metadata": {},
   "source": [
    "<p style=\"text-align:center\">\n",
    "    <a href=\"https://skills.network/?utm_medium=Exinfluencer&utm_source=Exinfluencer&utm_content=000026UJ&utm_term=10006555&utm_id=NA-SkillsNetwork-Channel-SkillsNetworkCoursesIBMDA0321ENSkillsNetwork928-2022-01-01\" target=\"_blank\">\n",
    "    <img src=\"https://cf-courses-data.s3.us.cloud-object-storage.appdomain.cloud/assets/logos/SN_web_lightmode.png\" width=\"200\" alt=\"Skills Network Logo\"  />\n",
    "    </a>\n",
    "</p>\n"
   ]
  },
  {
   "cell_type": "markdown",
   "metadata": {},
   "source": [
    "# **Hands-on Lab : Web Scraping**\n"
   ]
  },
  {
   "cell_type": "markdown",
   "metadata": {},
   "source": [
    "Estimated time needed: **30 to 45** minutes\n"
   ]
  },
  {
   "cell_type": "markdown",
   "metadata": {},
   "source": [
    "## Objectives\n"
   ]
  },
  {
   "cell_type": "markdown",
   "metadata": {},
   "source": [
    "In this lab you will perform the following:\n"
   ]
  },
  {
   "cell_type": "markdown",
   "metadata": {},
   "source": [
    "* Extract information from a given web site \n",
    "* Write the scraped data into a csv file.\n"
   ]
  },
  {
   "cell_type": "markdown",
   "metadata": {},
   "source": [
    "## Extract information from the given web site\n",
    "You will extract the data from the below web site: <br> \n"
   ]
  },
  {
   "cell_type": "code",
   "execution_count": 1,
   "metadata": {
    "tags": []
   },
   "outputs": [],
   "source": [
    "#this url contains the data you need to scrape\n",
    "url = \"https://cf-courses-data.s3.us.cloud-object-storage.appdomain.cloud/IBM-DA0321EN-SkillsNetwork/labs/datasets/Programming_Languages.html\""
   ]
  },
  {
   "cell_type": "markdown",
   "metadata": {},
   "source": [
    "The data you need to scrape is the **name of the programming language** and **average annual salary**.<br> It is a good idea to open the url in your web broswer and study the contents of the web page before you start to scrape.\n"
   ]
  },
  {
   "cell_type": "markdown",
   "metadata": {},
   "source": [
    "Import the required libraries\n"
   ]
  },
  {
   "cell_type": "code",
   "execution_count": 2,
   "metadata": {
    "tags": []
   },
   "outputs": [],
   "source": [
    "# Your code here\n",
    "import requests       # To send HTTP requests and get the webpage content\n",
    "from bs4 import BeautifulSoup  # To parse the HTML content\n",
    "import pandas as pd   # To handle data and save it as CSV"
   ]
  },
  {
   "cell_type": "markdown",
   "metadata": {},
   "source": [
    "Download the webpage at the url\n"
   ]
  },
  {
   "cell_type": "code",
   "execution_count": 3,
   "metadata": {
    "tags": []
   },
   "outputs": [
    {
     "name": "stdout",
     "output_type": "stream",
     "text": [
      "Webpage downloaded successfully!\n"
     ]
    }
   ],
   "source": [
    "# your code goes here\n",
    "url = \"https://cf-courses-data.s3.us.cloud-object-storage.appdomain.cloud/IBM-DA0321EN-SkillsNetwork/labs/datasets/Programming_Languages.html\"\n",
    "\n",
    "# Send a GET request to the URL\n",
    "response = requests.get(url)\n",
    "\n",
    "# Check if the request was successful\n",
    "if response.status_code == 200:\n",
    "    print(\"Webpage downloaded successfully!\")\n",
    "    webpage_content = response.text  # This contains the HTML content of the page\n",
    "else:\n",
    "    print(f\"Failed to download the webpage. Status code: {response.status_code}\")"
   ]
  },
  {
   "cell_type": "markdown",
   "metadata": {},
   "source": [
    "Create a soup object\n"
   ]
  },
  {
   "cell_type": "code",
   "execution_count": 4,
   "metadata": {
    "tags": []
   },
   "outputs": [
    {
     "name": "stdout",
     "output_type": "stream",
     "text": [
      "Soup object created successfully!\n"
     ]
    }
   ],
   "source": [
    "# your code goes here\n",
    "# Assuming webpage_content contains the HTML of the page\n",
    "soup = BeautifulSoup(webpage_content, 'html.parser')\n",
    "\n",
    "print(\"Soup object created successfully!\")"
   ]
  },
  {
   "cell_type": "markdown",
   "metadata": {},
   "source": [
    "Scrape the `Language name` and `annual average salary`.\n"
   ]
  },
  {
   "cell_type": "code",
   "execution_count": 9,
   "metadata": {
    "tags": []
   },
   "outputs": [
    {
     "name": "stdout",
     "output_type": "stream",
     "text": [
      "Python: $114,383\n",
      "Java: $101,013\n",
      "R: $92,037\n",
      "Javascript: $110,981\n",
      "Swift: $130,801\n",
      "C++: $113,865\n",
      "C#: $88,726\n",
      "PHP: $84,727\n",
      "SQL: $84,793\n",
      "Go: $94,082\n"
     ]
    }
   ],
   "source": [
    "# your code goes here\n",
    "# Find the first table on the page (assuming the data is there)\n",
    "table = soup.find('table')\n",
    "\n",
    "# Get all rows in the table except the header\n",
    "rows = table.find_all('tr')[1:]  # Skip header row\n",
    "\n",
    "languages = []\n",
    "salaries = []\n",
    "\n",
    "for row in rows:\n",
    "    cells = row.find_all('td')\n",
    "    if len(cells) >= 2:\n",
    "        language = cells[1].text.strip()        # Language name is in second column\n",
    "        salary = cells[3].text.strip()          # Annual average salary in fourth column\n",
    "        languages.append(language)\n",
    "        salaries.append(salary)\n",
    "\n",
    "# Check the scraped data\n",
    "for lang, sal in zip(languages, salaries):\n",
    "    print(f\"{lang}: {sal}\")"
   ]
  },
  {
   "cell_type": "code",
   "execution_count": 8,
   "metadata": {},
   "outputs": [
    {
     "name": "stdout",
     "output_type": "stream",
     "text": [
      "Webpage downloaded successfully!\n",
      "Soup object created successfully!\n",
      "Python: $114,383\n",
      "Java: $101,013\n",
      "R: $92,037\n",
      "Javascript: $110,981\n",
      "Swift: $130,801\n",
      "C++: $113,865\n",
      "C#: $88,726\n",
      "PHP: $84,727\n",
      "SQL: $84,793\n",
      "Go: $94,082\n"
     ]
    }
   ],
   "source": [
    "import requests\n",
    "from bs4 import BeautifulSoup\n",
    "import pandas as pd\n",
    "\n",
    "# Step 1: Download the web page\n",
    "url = \"https://cf-courses-data.s3.us.cloud-object-storage.appdomain.cloud/IBM-DA0321EN-SkillsNetwork/labs/datasets/Programming_Languages.html\"\n",
    "response = requests.get(url)\n",
    "\n",
    "if response.status_code == 200:\n",
    "    print(\"Webpage downloaded successfully!\")\n",
    "    webpage_content = response.text\n",
    "else:\n",
    "    raise Exception(f\"Failed to load page, status code: {response.status_code}\")\n",
    "\n",
    "# Step 2: Create BeautifulSoup object\n",
    "soup = BeautifulSoup(webpage_content, 'html.parser')\n",
    "print(\"Soup object created successfully!\")\n",
    "\n",
    "# Step 3: Locate the table\n",
    "table = soup.find('table')\n",
    "\n",
    "# Step 4: Extract rows\n",
    "languages = []\n",
    "salaries = []\n",
    "\n",
    "for row in table.find_all('tr')[1:]:  # Skip header\n",
    "    cols = row.find_all('td')\n",
    "    if len(cols) >= 4:\n",
    "        language = cols[1].text.strip() # 2nd column is the language\n",
    "        salary = cols[3].text.strip()  # 4th column is 'Average Annual Salary'\n",
    "        languages.append(language)\n",
    "        salaries.append(salary)\n",
    "\n",
    "# Step 5: Display results\n",
    "for lang, sal in zip(languages, salaries):\n",
    "    print(f\"{lang}: {sal}\")"
   ]
  },
  {
   "cell_type": "markdown",
   "metadata": {},
   "source": [
    "Save the scrapped data into a file named *popular-languages.csv*\n"
   ]
  },
  {
   "cell_type": "code",
   "execution_count": 10,
   "metadata": {
    "tags": []
   },
   "outputs": [
    {
     "name": "stdout",
     "output_type": "stream",
     "text": [
      "Data saved to popular-languages.csv successfully!\n"
     ]
    }
   ],
   "source": [
    "# your code goes here\n",
    "# Create a DataFrame from the scraped data\n",
    "data = {\n",
    "    'Language': languages,\n",
    "    'Average Annual Salary': salaries\n",
    "}\n",
    "\n",
    "df = pd.DataFrame(data)\n",
    "\n",
    "# Save the DataFrame to a CSV file\n",
    "df.to_csv('popular-languages.csv', index=False)\n",
    "\n",
    "print(\"Data saved to popular-languages.csv successfully!\")"
   ]
  },
  {
   "cell_type": "code",
   "execution_count": 12,
   "metadata": {},
   "outputs": [
    {
     "name": "stdout",
     "output_type": "stream",
     "text": [
      "     Language Average Annual Salary\n",
      "0      Python              $114,383\n",
      "1        Java              $101,013\n",
      "2           R               $92,037\n",
      "3  Javascript              $110,981\n",
      "4       Swift              $130,801\n",
      "5         C++              $113,865\n",
      "6          C#               $88,726\n",
      "7         PHP               $84,727\n",
      "8         SQL               $84,793\n",
      "9          Go               $94,082\n"
     ]
    }
   ],
   "source": [
    "# Read the CSV file into a DataFrame\n",
    "df = pd.read_csv('popular-languages.csv')\n",
    "\n",
    "# Display the first few rows of the DataFrame\n",
    "print(df.head(10))"
   ]
  },
  {
   "cell_type": "code",
   "execution_count": 13,
   "metadata": {},
   "outputs": [
    {
     "data": {
      "image/png": "[encoded data removed]",
      "text/plain": [
       "<Figure size 1000x600 with 1 Axes>"
      ]
     },
     "metadata": {},
     "output_type": "display_data"
    }
   ],
   "source": [
    "import pandas as pd\n",
    "import matplotlib.pyplot as plt\n",
    "\n",
    "# Step 1: Load the CSV file\n",
    "df = pd.read_csv('popular-languages.csv')\n",
    "\n",
    "# Step 2: Clean the 'Average Annual Salary' column\n",
    "# Remove $ and commas, convert to float\n",
    "df['Salary_numeric'] = df['Average Annual Salary'].replace('[\\$,]', '', regex=True).astype(float)\n",
    "\n",
    "# Step 3: Sort the data by salary in descending order\n",
    "df_sorted = df.sort_values(by='Salary_numeric', ascending=False)\n",
    "\n",
    "# Step 4: Plot the bar chart\n",
    "plt.figure(figsize=(10, 6))\n",
    "plt.barh(df_sorted['Language'], df_sorted['Salary_numeric'], color='skyblue')\n",
    "plt.xlabel('Average Annual Salary (USD)')\n",
    "plt.title('Programming Languages by Average Salary')\n",
    "plt.gca().invert_yaxis()  # Highest salary on top\n",
    "plt.grid(axis='x', linestyle='--', alpha=0.7)\n",
    "plt.tight_layout()\n",
    "plt.show()"
   ]
  },
  {
   "cell_type": "markdown",
   "metadata": {},
   "source": [
    "## Authors\n"
   ]
  },
  {
   "cell_type": "markdown",
   "metadata": {},
   "source": [
    "Ramesh Sannareddy\n"
   ]
  },
  {
   "cell_type": "markdown",
   "metadata": {},
   "source": [
    "### Other Contributors\n"
   ]
  },
  {
   "cell_type": "markdown",
   "metadata": {},
   "source": [
    "Rav Ahuja\n"
   ]
  },
  {
   "cell_type": "markdown",
   "metadata": {},
   "source": [
    "## Change Log\n"
   ]
  },
  {
   "cell_type": "markdown",
   "metadata": {},
   "source": [
    "|  Date (YYYY-MM-DD) |  Version | Changed By  |  Change Description |\n",
    "|---|---|---|---|\n",
    "| 2020-10-17  | 0.1  | Ramesh Sannareddy  |  Created initial version of the lab |\n"
   ]
  },
  {
   "cell_type": "markdown",
   "metadata": {},
   "source": [
    " Copyright &copy; 2020 IBM Corporation. This notebook and its source code are released under the terms of the [MIT License](https://cognitiveclass.ai/mit-license/?utm_medium=Exinfluencer&utm_source=Exinfluencer&utm_content=000026UJ&utm_term=10006555&utm_id=NA-SkillsNetwork-Channel-SkillsNetworkCoursesIBMDA0321ENSkillsNetwork928-2022-01-01).\n"
   ]
  }
 ],
 "metadata": {
  "kernelspec": {
   "display_name": "base",
   "language": "python",
   "name": "python3"
  },
  "language_info": {
   "codemirror_mode": {
    "name": "ipython",
    "version": 3
   },
   "file_extension": ".py",
   "mimetype": "text/x-python",
   "name": "python",
   "nbconvert_exporter": "python",
   "pygments_lexer": "ipython3",
   "version": "3.11.4"
  }
 },
 "nbformat": 4,
 "nbformat_minor": 4
}
